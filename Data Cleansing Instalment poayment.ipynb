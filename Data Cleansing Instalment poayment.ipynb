{
 "cells": [
  {
   "cell_type": "markdown",
   "id": "4dc1c5a7",
   "metadata": {},
   "source": [
    "Title : Data Cleansing for APP Training"
   ]
  },
  {
   "cell_type": "markdown",
   "id": "da0a7896",
   "metadata": {},
   "source": [
    "# Import Library"
   ]
  },
  {
   "cell_type": "code",
   "execution_count": 9,
   "id": "e5faa1dc",
   "metadata": {},
   "outputs": [],
   "source": [
    "import pandas as pd\n",
    "import numpy as np\n",
    "import matplotlib.pyplot as plt\n",
    "import seaborn as sns\n",
    "import warnings\n",
    "warnings.filterwarnings('ignore')"
   ]
  },
  {
   "cell_type": "markdown",
   "id": "dec0868c",
   "metadata": {},
   "source": [
    "# Memuat DataSets"
   ]
  },
  {
   "cell_type": "code",
   "execution_count": 10,
   "id": "ccfdbe34",
   "metadata": {},
   "outputs": [],
   "source": [
    "df = pd.read_csv(\"C:/Users/ASUS/JupyterNotebookFile/RaHciFinaltask/installments_payments.csv\") # load dataset dari direktori file laptop"
   ]
  },
  {
   "cell_type": "code",
   "execution_count": 11,
   "id": "6da2182b",
   "metadata": {},
   "outputs": [
    {
     "data": {
      "text/html": [
       "<div>\n",
       "<style scoped>\n",
       "    .dataframe tbody tr th:only-of-type {\n",
       "        vertical-align: middle;\n",
       "    }\n",
       "\n",
       "    .dataframe tbody tr th {\n",
       "        vertical-align: top;\n",
       "    }\n",
       "\n",
       "    .dataframe thead th {\n",
       "        text-align: right;\n",
       "    }\n",
       "</style>\n",
       "<table border=\"1\" class=\"dataframe\">\n",
       "  <thead>\n",
       "    <tr style=\"text-align: right;\">\n",
       "      <th></th>\n",
       "      <th>SK_ID_PREV</th>\n",
       "      <th>SK_ID_CURR</th>\n",
       "      <th>NUM_INSTALMENT_VERSION</th>\n",
       "      <th>NUM_INSTALMENT_NUMBER</th>\n",
       "      <th>DAYS_INSTALMENT</th>\n",
       "      <th>DAYS_ENTRY_PAYMENT</th>\n",
       "      <th>AMT_INSTALMENT</th>\n",
       "      <th>AMT_PAYMENT</th>\n",
       "    </tr>\n",
       "  </thead>\n",
       "  <tbody>\n",
       "    <tr>\n",
       "      <th>0</th>\n",
       "      <td>1054186</td>\n",
       "      <td>161674</td>\n",
       "      <td>1.0</td>\n",
       "      <td>6</td>\n",
       "      <td>-1180.0</td>\n",
       "      <td>-1187.0</td>\n",
       "      <td>6948.360</td>\n",
       "      <td>6948.360</td>\n",
       "    </tr>\n",
       "    <tr>\n",
       "      <th>1</th>\n",
       "      <td>1330831</td>\n",
       "      <td>151639</td>\n",
       "      <td>0.0</td>\n",
       "      <td>34</td>\n",
       "      <td>-2156.0</td>\n",
       "      <td>-2156.0</td>\n",
       "      <td>1716.525</td>\n",
       "      <td>1716.525</td>\n",
       "    </tr>\n",
       "    <tr>\n",
       "      <th>2</th>\n",
       "      <td>2085231</td>\n",
       "      <td>193053</td>\n",
       "      <td>2.0</td>\n",
       "      <td>1</td>\n",
       "      <td>-63.0</td>\n",
       "      <td>-63.0</td>\n",
       "      <td>25425.000</td>\n",
       "      <td>25425.000</td>\n",
       "    </tr>\n",
       "    <tr>\n",
       "      <th>3</th>\n",
       "      <td>2452527</td>\n",
       "      <td>199697</td>\n",
       "      <td>1.0</td>\n",
       "      <td>3</td>\n",
       "      <td>-2418.0</td>\n",
       "      <td>-2426.0</td>\n",
       "      <td>24350.130</td>\n",
       "      <td>24350.130</td>\n",
       "    </tr>\n",
       "    <tr>\n",
       "      <th>4</th>\n",
       "      <td>2714724</td>\n",
       "      <td>167756</td>\n",
       "      <td>1.0</td>\n",
       "      <td>2</td>\n",
       "      <td>-1383.0</td>\n",
       "      <td>-1366.0</td>\n",
       "      <td>2165.040</td>\n",
       "      <td>2160.585</td>\n",
       "    </tr>\n",
       "  </tbody>\n",
       "</table>\n",
       "</div>"
      ],
      "text/plain": [
       "   SK_ID_PREV  SK_ID_CURR  NUM_INSTALMENT_VERSION  NUM_INSTALMENT_NUMBER  \\\n",
       "0     1054186      161674                     1.0                      6   \n",
       "1     1330831      151639                     0.0                     34   \n",
       "2     2085231      193053                     2.0                      1   \n",
       "3     2452527      199697                     1.0                      3   \n",
       "4     2714724      167756                     1.0                      2   \n",
       "\n",
       "   DAYS_INSTALMENT  DAYS_ENTRY_PAYMENT  AMT_INSTALMENT  AMT_PAYMENT  \n",
       "0          -1180.0             -1187.0        6948.360     6948.360  \n",
       "1          -2156.0             -2156.0        1716.525     1716.525  \n",
       "2            -63.0               -63.0       25425.000    25425.000  \n",
       "3          -2418.0             -2426.0       24350.130    24350.130  \n",
       "4          -1383.0             -1366.0        2165.040     2160.585  "
      ]
     },
     "execution_count": 11,
     "metadata": {},
     "output_type": "execute_result"
    }
   ],
   "source": [
    "df.head() #menampilkan 5 data teratas"
   ]
  },
  {
   "cell_type": "markdown",
   "id": "9cc49ecf",
   "metadata": {},
   "source": [
    "# Exploratory Data Analysis (EDA)"
   ]
  },
  {
   "cell_type": "markdown",
   "id": "c02963b6",
   "metadata": {},
   "source": [
    "Disini kita pakai **pd.set_option('display.max_columns', None)** untuk menunjukkan semua kolom yang terdapat pada dataset"
   ]
  },
  {
   "cell_type": "code",
   "execution_count": 12,
   "id": "6b846776",
   "metadata": {},
   "outputs": [
    {
     "data": {
      "text/html": [
       "<div>\n",
       "<style scoped>\n",
       "    .dataframe tbody tr th:only-of-type {\n",
       "        vertical-align: middle;\n",
       "    }\n",
       "\n",
       "    .dataframe tbody tr th {\n",
       "        vertical-align: top;\n",
       "    }\n",
       "\n",
       "    .dataframe thead th {\n",
       "        text-align: right;\n",
       "    }\n",
       "</style>\n",
       "<table border=\"1\" class=\"dataframe\">\n",
       "  <thead>\n",
       "    <tr style=\"text-align: right;\">\n",
       "      <th></th>\n",
       "      <th>SK_ID_PREV</th>\n",
       "      <th>SK_ID_CURR</th>\n",
       "      <th>NUM_INSTALMENT_VERSION</th>\n",
       "      <th>NUM_INSTALMENT_NUMBER</th>\n",
       "      <th>DAYS_INSTALMENT</th>\n",
       "      <th>DAYS_ENTRY_PAYMENT</th>\n",
       "      <th>AMT_INSTALMENT</th>\n",
       "      <th>AMT_PAYMENT</th>\n",
       "    </tr>\n",
       "  </thead>\n",
       "  <tbody>\n",
       "    <tr>\n",
       "      <th>0</th>\n",
       "      <td>1054186</td>\n",
       "      <td>161674</td>\n",
       "      <td>1.0</td>\n",
       "      <td>6</td>\n",
       "      <td>-1180.0</td>\n",
       "      <td>-1187.0</td>\n",
       "      <td>6948.360</td>\n",
       "      <td>6948.360</td>\n",
       "    </tr>\n",
       "    <tr>\n",
       "      <th>1</th>\n",
       "      <td>1330831</td>\n",
       "      <td>151639</td>\n",
       "      <td>0.0</td>\n",
       "      <td>34</td>\n",
       "      <td>-2156.0</td>\n",
       "      <td>-2156.0</td>\n",
       "      <td>1716.525</td>\n",
       "      <td>1716.525</td>\n",
       "    </tr>\n",
       "    <tr>\n",
       "      <th>2</th>\n",
       "      <td>2085231</td>\n",
       "      <td>193053</td>\n",
       "      <td>2.0</td>\n",
       "      <td>1</td>\n",
       "      <td>-63.0</td>\n",
       "      <td>-63.0</td>\n",
       "      <td>25425.000</td>\n",
       "      <td>25425.000</td>\n",
       "    </tr>\n",
       "    <tr>\n",
       "      <th>3</th>\n",
       "      <td>2452527</td>\n",
       "      <td>199697</td>\n",
       "      <td>1.0</td>\n",
       "      <td>3</td>\n",
       "      <td>-2418.0</td>\n",
       "      <td>-2426.0</td>\n",
       "      <td>24350.130</td>\n",
       "      <td>24350.130</td>\n",
       "    </tr>\n",
       "    <tr>\n",
       "      <th>4</th>\n",
       "      <td>2714724</td>\n",
       "      <td>167756</td>\n",
       "      <td>1.0</td>\n",
       "      <td>2</td>\n",
       "      <td>-1383.0</td>\n",
       "      <td>-1366.0</td>\n",
       "      <td>2165.040</td>\n",
       "      <td>2160.585</td>\n",
       "    </tr>\n",
       "  </tbody>\n",
       "</table>\n",
       "</div>"
      ],
      "text/plain": [
       "   SK_ID_PREV  SK_ID_CURR  NUM_INSTALMENT_VERSION  NUM_INSTALMENT_NUMBER  \\\n",
       "0     1054186      161674                     1.0                      6   \n",
       "1     1330831      151639                     0.0                     34   \n",
       "2     2085231      193053                     2.0                      1   \n",
       "3     2452527      199697                     1.0                      3   \n",
       "4     2714724      167756                     1.0                      2   \n",
       "\n",
       "   DAYS_INSTALMENT  DAYS_ENTRY_PAYMENT  AMT_INSTALMENT  AMT_PAYMENT  \n",
       "0          -1180.0             -1187.0        6948.360     6948.360  \n",
       "1          -2156.0             -2156.0        1716.525     1716.525  \n",
       "2            -63.0               -63.0       25425.000    25425.000  \n",
       "3          -2418.0             -2426.0       24350.130    24350.130  \n",
       "4          -1383.0             -1366.0        2165.040     2160.585  "
      ]
     },
     "metadata": {},
     "output_type": "display_data"
    },
    {
     "name": "stdout",
     "output_type": "stream",
     "text": [
      "Ukuran dari dataset (baris, kolom) : (13605401, 8)\n"
     ]
    }
   ],
   "source": [
    "pd.set_option('display.max_columns', None) #meanmpilkan semua kolom pada data\n",
    "display(df.head(5)) # 5 data teratas menggunakan display agar tetap bisa ditampilkan, karena line berikutnya mengeksekusi perintah print\n",
    "print(f'Ukuran dari dataset (baris, kolom) : {df.shape}')"
   ]
  },
  {
   "cell_type": "markdown",
   "id": "f780ffca",
   "metadata": {},
   "source": [
    "## Tipe Data pada DataSet"
   ]
  },
  {
   "cell_type": "code",
   "execution_count": 13,
   "id": "dd059de0",
   "metadata": {},
   "outputs": [
    {
     "name": "stdout",
     "output_type": "stream",
     "text": [
      "<class 'pandas.core.frame.DataFrame'>\n",
      "RangeIndex: 13605401 entries, 0 to 13605400\n",
      "Data columns (total 8 columns):\n",
      " #   Column                  Dtype  \n",
      "---  ------                  -----  \n",
      " 0   SK_ID_PREV              int64  \n",
      " 1   SK_ID_CURR              int64  \n",
      " 2   NUM_INSTALMENT_VERSION  float64\n",
      " 3   NUM_INSTALMENT_NUMBER   int64  \n",
      " 4   DAYS_INSTALMENT         float64\n",
      " 5   DAYS_ENTRY_PAYMENT      float64\n",
      " 6   AMT_INSTALMENT          float64\n",
      " 7   AMT_PAYMENT             float64\n",
      "dtypes: float64(5), int64(3)\n",
      "memory usage: 830.4 MB\n"
     ]
    }
   ],
   "source": [
    "df.info() #menampilkan tipe dataset"
   ]
  },
  {
   "cell_type": "markdown",
   "id": "23e5988d",
   "metadata": {},
   "source": [
    "Dari sini kita bisa tahu bahwa terdapat 65 kolom bertipe Float, tipe int ada 41 dan objet 16\n",
    "\n",
    "Dari hal ini untuk menampilkan deskriptif statistiknya ada 2 janis, yaitu yang enampilkan untuk tipe numerik dan obej"
   ]
  },
  {
   "cell_type": "markdown",
   "id": "80fe4616",
   "metadata": {},
   "source": [
    "### Deskriptif statistik Numerik"
   ]
  },
  {
   "cell_type": "code",
   "execution_count": 14,
   "id": "2fa833a1",
   "metadata": {},
   "outputs": [
    {
     "data": {
      "text/html": [
       "<div>\n",
       "<style scoped>\n",
       "    .dataframe tbody tr th:only-of-type {\n",
       "        vertical-align: middle;\n",
       "    }\n",
       "\n",
       "    .dataframe tbody tr th {\n",
       "        vertical-align: top;\n",
       "    }\n",
       "\n",
       "    .dataframe thead th {\n",
       "        text-align: right;\n",
       "    }\n",
       "</style>\n",
       "<table border=\"1\" class=\"dataframe\">\n",
       "  <thead>\n",
       "    <tr style=\"text-align: right;\">\n",
       "      <th></th>\n",
       "      <th>SK_ID_PREV</th>\n",
       "      <th>SK_ID_CURR</th>\n",
       "      <th>NUM_INSTALMENT_VERSION</th>\n",
       "      <th>NUM_INSTALMENT_NUMBER</th>\n",
       "      <th>DAYS_INSTALMENT</th>\n",
       "      <th>DAYS_ENTRY_PAYMENT</th>\n",
       "      <th>AMT_INSTALMENT</th>\n",
       "      <th>AMT_PAYMENT</th>\n",
       "    </tr>\n",
       "  </thead>\n",
       "  <tbody>\n",
       "    <tr>\n",
       "      <th>count</th>\n",
       "      <td>1.360540e+07</td>\n",
       "      <td>1.360540e+07</td>\n",
       "      <td>1.360540e+07</td>\n",
       "      <td>1.360540e+07</td>\n",
       "      <td>1.360540e+07</td>\n",
       "      <td>1.360250e+07</td>\n",
       "      <td>1.360540e+07</td>\n",
       "      <td>1.360250e+07</td>\n",
       "    </tr>\n",
       "    <tr>\n",
       "      <th>mean</th>\n",
       "      <td>1.903365e+06</td>\n",
       "      <td>2.784449e+05</td>\n",
       "      <td>8.566373e-01</td>\n",
       "      <td>1.887090e+01</td>\n",
       "      <td>-1.042270e+03</td>\n",
       "      <td>-1.051114e+03</td>\n",
       "      <td>1.705091e+04</td>\n",
       "      <td>1.723822e+04</td>\n",
       "    </tr>\n",
       "    <tr>\n",
       "      <th>std</th>\n",
       "      <td>5.362029e+05</td>\n",
       "      <td>1.027183e+05</td>\n",
       "      <td>1.035216e+00</td>\n",
       "      <td>2.666407e+01</td>\n",
       "      <td>8.009463e+02</td>\n",
       "      <td>8.005859e+02</td>\n",
       "      <td>5.057025e+04</td>\n",
       "      <td>5.473578e+04</td>\n",
       "    </tr>\n",
       "    <tr>\n",
       "      <th>min</th>\n",
       "      <td>1.000001e+06</td>\n",
       "      <td>1.000010e+05</td>\n",
       "      <td>0.000000e+00</td>\n",
       "      <td>1.000000e+00</td>\n",
       "      <td>-2.922000e+03</td>\n",
       "      <td>-4.921000e+03</td>\n",
       "      <td>0.000000e+00</td>\n",
       "      <td>0.000000e+00</td>\n",
       "    </tr>\n",
       "    <tr>\n",
       "      <th>25%</th>\n",
       "      <td>1.434191e+06</td>\n",
       "      <td>1.896390e+05</td>\n",
       "      <td>0.000000e+00</td>\n",
       "      <td>4.000000e+00</td>\n",
       "      <td>-1.654000e+03</td>\n",
       "      <td>-1.662000e+03</td>\n",
       "      <td>4.226085e+03</td>\n",
       "      <td>3.398265e+03</td>\n",
       "    </tr>\n",
       "    <tr>\n",
       "      <th>50%</th>\n",
       "      <td>1.896520e+06</td>\n",
       "      <td>2.786850e+05</td>\n",
       "      <td>1.000000e+00</td>\n",
       "      <td>8.000000e+00</td>\n",
       "      <td>-8.180000e+02</td>\n",
       "      <td>-8.270000e+02</td>\n",
       "      <td>8.884080e+03</td>\n",
       "      <td>8.125515e+03</td>\n",
       "    </tr>\n",
       "    <tr>\n",
       "      <th>75%</th>\n",
       "      <td>2.369094e+06</td>\n",
       "      <td>3.675300e+05</td>\n",
       "      <td>1.000000e+00</td>\n",
       "      <td>1.900000e+01</td>\n",
       "      <td>-3.610000e+02</td>\n",
       "      <td>-3.700000e+02</td>\n",
       "      <td>1.671021e+04</td>\n",
       "      <td>1.610842e+04</td>\n",
       "    </tr>\n",
       "    <tr>\n",
       "      <th>max</th>\n",
       "      <td>2.843499e+06</td>\n",
       "      <td>4.562550e+05</td>\n",
       "      <td>1.780000e+02</td>\n",
       "      <td>2.770000e+02</td>\n",
       "      <td>-1.000000e+00</td>\n",
       "      <td>-1.000000e+00</td>\n",
       "      <td>3.771488e+06</td>\n",
       "      <td>3.771488e+06</td>\n",
       "    </tr>\n",
       "  </tbody>\n",
       "</table>\n",
       "</div>"
      ],
      "text/plain": [
       "         SK_ID_PREV    SK_ID_CURR  NUM_INSTALMENT_VERSION  \\\n",
       "count  1.360540e+07  1.360540e+07            1.360540e+07   \n",
       "mean   1.903365e+06  2.784449e+05            8.566373e-01   \n",
       "std    5.362029e+05  1.027183e+05            1.035216e+00   \n",
       "min    1.000001e+06  1.000010e+05            0.000000e+00   \n",
       "25%    1.434191e+06  1.896390e+05            0.000000e+00   \n",
       "50%    1.896520e+06  2.786850e+05            1.000000e+00   \n",
       "75%    2.369094e+06  3.675300e+05            1.000000e+00   \n",
       "max    2.843499e+06  4.562550e+05            1.780000e+02   \n",
       "\n",
       "       NUM_INSTALMENT_NUMBER  DAYS_INSTALMENT  DAYS_ENTRY_PAYMENT  \\\n",
       "count           1.360540e+07     1.360540e+07        1.360250e+07   \n",
       "mean            1.887090e+01    -1.042270e+03       -1.051114e+03   \n",
       "std             2.666407e+01     8.009463e+02        8.005859e+02   \n",
       "min             1.000000e+00    -2.922000e+03       -4.921000e+03   \n",
       "25%             4.000000e+00    -1.654000e+03       -1.662000e+03   \n",
       "50%             8.000000e+00    -8.180000e+02       -8.270000e+02   \n",
       "75%             1.900000e+01    -3.610000e+02       -3.700000e+02   \n",
       "max             2.770000e+02    -1.000000e+00       -1.000000e+00   \n",
       "\n",
       "       AMT_INSTALMENT   AMT_PAYMENT  \n",
       "count    1.360540e+07  1.360250e+07  \n",
       "mean     1.705091e+04  1.723822e+04  \n",
       "std      5.057025e+04  5.473578e+04  \n",
       "min      0.000000e+00  0.000000e+00  \n",
       "25%      4.226085e+03  3.398265e+03  \n",
       "50%      8.884080e+03  8.125515e+03  \n",
       "75%      1.671021e+04  1.610842e+04  \n",
       "max      3.771488e+06  3.771488e+06  "
      ]
     },
     "execution_count": 14,
     "metadata": {},
     "output_type": "execute_result"
    }
   ],
   "source": [
    "df.describe() #ini untuk numerical"
   ]
  },
  {
   "cell_type": "markdown",
   "id": "dde31ff6",
   "metadata": {},
   "source": [
    "### Deskriptif Statistik Kategorial"
   ]
  },
  {
   "cell_type": "code",
   "execution_count": 15,
   "id": "63ad3257",
   "metadata": {},
   "outputs": [],
   "source": [
    "# tipe_data_kategorial = df.select_dtypes(include='object') #memilih tipe data objek\n",
    "# tipe_data_kategorial.describe()"
   ]
  },
  {
   "cell_type": "markdown",
   "id": "274c8edd",
   "metadata": {},
   "source": [
    "# Data Cleansing"
   ]
  },
  {
   "cell_type": "markdown",
   "id": "69ba3bff",
   "metadata": {},
   "source": [
    "## Mengecek Nilai Duplikasi"
   ]
  },
  {
   "cell_type": "code",
   "execution_count": 16,
   "id": "ccf05b21",
   "metadata": {},
   "outputs": [
    {
     "data": {
      "text/plain": [
       "0"
      ]
     },
     "execution_count": 16,
     "metadata": {},
     "output_type": "execute_result"
    }
   ],
   "source": [
    "df.duplicated().sum() #mennjumlahkan data yang memiliki nilai duplikasi"
   ]
  },
  {
   "cell_type": "markdown",
   "id": "3ab51ecf",
   "metadata": {},
   "source": [
    "Dari pengecekan nilai duplikasi diatas, menunjukkan bahawa tidak ada data yang duplikasi, Selanjutkan kita lanjutkan untuk pengecekan Missing Value"
   ]
  },
  {
   "cell_type": "markdown",
   "id": "0fa62f17",
   "metadata": {},
   "source": [
    "## Missing Value"
   ]
  },
  {
   "cell_type": "code",
   "execution_count": 17,
   "id": "be7448b8",
   "metadata": {},
   "outputs": [],
   "source": [
    "import pandas as pd\n",
    "import matplotlib.pyplot as plt\n",
    "import seaborn as sns\n",
    "\n",
    "def pengecekan(data):\n",
    "    pd.set_option('display.max_rows', None)\n",
    "    missing_values = data.isna().sum()\n",
    "    missing_columns = missing_values[missing_values > 0]\n",
    "    if not missing_columns.empty:\n",
    "        persentase = missing_columns / len(data) * 100\n",
    "        print(f'Kolom dengan Missing Value :')\n",
    "        missing_info = pd.DataFrame({'Missing Values': missing_columns, 'Persentase': persentase})\n",
    "        missing_info = missing_info.sort_values(by='Missing Values', ascending=False)\n",
    "        missing_info.info()\n",
    "        \n",
    "        # Visualisasi\n",
    "        plt.figure(figsize=(12, 9))\n",
    "        colors = []\n",
    "        for persen in missing_info['Persentase']:\n",
    "            if persen > 51:\n",
    "                colors.append('#E1341E')  # Merah\n",
    "            elif persen > 41:\n",
    "                colors.append('#FFA500')  # Orange\n",
    "            elif persen > 21:\n",
    "                colors.append('#FFFF00')  # Kuning\n",
    "            else:\n",
    "                colors.append('#2CA02C')  # Hijau\n",
    "        ax = sns.barplot(x='Persentase', y=missing_info.index, data=missing_info, palette=colors)\n",
    "\n",
    "        for p in ax.patches:\n",
    "            ax.annotate(\"%.2f\" % p.get_width() + '%', xy=(p.get_width(), p.get_y()+p.get_height()/2),\n",
    "                        xytext=(8, 0), textcoords='offset points', ha=\"left\", va=\"center\", fontsize=10)\n",
    "\n",
    "        plt.title('Persentase Missing Value untuk Setiap Kolom', fontsize=10)\n",
    "        plt.xlabel('Persentase Missing Value', fontsize=12)\n",
    "        plt.ylabel('Nama_kolom', fontsize=12)\n",
    "        \n",
    "        # Menambahkan legenda\n",
    "        legend_labels = ['> 51%', '31% - 51%', '21% - 31%', '< 21%']\n",
    "        legend_colors = ['#E1341E', '#FFA500', '#FFFF00', '#2CA02C']\n",
    "        patches = [plt.Rectangle((0,0),1,1,fc=color, edgecolor='none') for color in legend_colors]\n",
    "        plt.legend(patches, legend_labels, loc='lower right')\n",
    "        \n",
    "        plt.tight_layout()\n",
    "        plt.xlim(0, 100)\n",
    "        plt.show()\n",
    "        \n",
    "    else:\n",
    "        print(\"Tidak ada kolom dengan Missing Value.\")"
   ]
  },
  {
   "cell_type": "code",
   "execution_count": 18,
   "id": "38b9616e",
   "metadata": {
    "scrolled": false
   },
   "outputs": [
    {
     "name": "stdout",
     "output_type": "stream",
     "text": [
      "Kolom dengan Missing Value :\n",
      "<class 'pandas.core.frame.DataFrame'>\n",
      "Index: 2 entries, DAYS_ENTRY_PAYMENT to AMT_PAYMENT\n",
      "Data columns (total 2 columns):\n",
      " #   Column          Non-Null Count  Dtype  \n",
      "---  ------          --------------  -----  \n",
      " 0   Missing Values  2 non-null      int64  \n",
      " 1   Persentase      2 non-null      float64\n",
      "dtypes: float64(1), int64(1)\n",
      "memory usage: 48.0+ bytes\n"
     ]
    },
    {
     "data": {
      "image/png": "[encoded data removed]",
      "text/plain": [
       "<Figure size 1200x900 with 1 Axes>"
      ]
     },
     "metadata": {},
     "output_type": "display_data"
    }
   ],
   "source": [
    "pengecekan(df)"
   ]
  },
  {
   "cell_type": "markdown",
   "id": "f7e612b7",
   "metadata": {},
   "source": [
    "Hasil diatas menunjukkan bahwa, hampir dari separuh data memiliki nilai hilang yang melebihi 50%. Untuk keputusan saya ini, saya mengamil tindakan untuk mengapus kolom yang memliki nilai missing value diatas 45%. Karena jika kita isi dengan nilai 0 atau mean, kemungkinan besar hasilnya akan tidak akurat dan bisa bikin data jadi kelihatan janggal"
   ]
  },
  {
   "cell_type": "markdown",
   "id": "c9e479f3",
   "metadata": {},
   "source": [
    "# Menghapus Kolom Diatas 45%"
   ]
  },
  {
   "cell_type": "code",
   "execution_count": 19,
   "id": "6ccf6353",
   "metadata": {},
   "outputs": [],
   "source": [
    "# Menghitung persentase missing value untuk setiap kolom\n",
    "persentase_missing = (df.isnull().sum() / len(df)) * 100\n",
    "\n",
    "# Membuat list nama kolom yang akan dihapus\n",
    "kolom_hapus = persentase_missing[persentase_missing > 45].index.tolist()\n",
    "\n",
    "# Menghapus kolom dari dataset\n",
    "data_installments_payments_clean = df.drop(columns=kolom_hapus)"
   ]
  },
  {
   "cell_type": "code",
   "execution_count": 20,
   "id": "4cafd775",
   "metadata": {},
   "outputs": [
    {
     "data": {
      "text/plain": [
       "(13605401, 8)"
      ]
     },
     "execution_count": 20,
     "metadata": {},
     "output_type": "execute_result"
    }
   ],
   "source": [
    "data_installments_payments_clean.shape"
   ]
  },
  {
   "cell_type": "code",
   "execution_count": 21,
   "id": "c8dd699c",
   "metadata": {
    "scrolled": true
   },
   "outputs": [
    {
     "data": {
      "text/html": [
       "<div>\n",
       "<style scoped>\n",
       "    .dataframe tbody tr th:only-of-type {\n",
       "        vertical-align: middle;\n",
       "    }\n",
       "\n",
       "    .dataframe tbody tr th {\n",
       "        vertical-align: top;\n",
       "    }\n",
       "\n",
       "    .dataframe thead th {\n",
       "        text-align: right;\n",
       "    }\n",
       "</style>\n",
       "<table border=\"1\" class=\"dataframe\">\n",
       "  <thead>\n",
       "    <tr style=\"text-align: right;\">\n",
       "      <th></th>\n",
       "      <th>SK_ID_PREV</th>\n",
       "      <th>SK_ID_CURR</th>\n",
       "      <th>NUM_INSTALMENT_VERSION</th>\n",
       "      <th>NUM_INSTALMENT_NUMBER</th>\n",
       "      <th>DAYS_INSTALMENT</th>\n",
       "      <th>DAYS_ENTRY_PAYMENT</th>\n",
       "      <th>AMT_INSTALMENT</th>\n",
       "      <th>AMT_PAYMENT</th>\n",
       "    </tr>\n",
       "  </thead>\n",
       "  <tbody>\n",
       "    <tr>\n",
       "      <th>0</th>\n",
       "      <td>1054186</td>\n",
       "      <td>161674</td>\n",
       "      <td>1.0</td>\n",
       "      <td>6</td>\n",
       "      <td>-1180.0</td>\n",
       "      <td>-1187.0</td>\n",
       "      <td>6948.360</td>\n",
       "      <td>6948.360</td>\n",
       "    </tr>\n",
       "    <tr>\n",
       "      <th>1</th>\n",
       "      <td>1330831</td>\n",
       "      <td>151639</td>\n",
       "      <td>0.0</td>\n",
       "      <td>34</td>\n",
       "      <td>-2156.0</td>\n",
       "      <td>-2156.0</td>\n",
       "      <td>1716.525</td>\n",
       "      <td>1716.525</td>\n",
       "    </tr>\n",
       "    <tr>\n",
       "      <th>2</th>\n",
       "      <td>2085231</td>\n",
       "      <td>193053</td>\n",
       "      <td>2.0</td>\n",
       "      <td>1</td>\n",
       "      <td>-63.0</td>\n",
       "      <td>-63.0</td>\n",
       "      <td>25425.000</td>\n",
       "      <td>25425.000</td>\n",
       "    </tr>\n",
       "    <tr>\n",
       "      <th>3</th>\n",
       "      <td>2452527</td>\n",
       "      <td>199697</td>\n",
       "      <td>1.0</td>\n",
       "      <td>3</td>\n",
       "      <td>-2418.0</td>\n",
       "      <td>-2426.0</td>\n",
       "      <td>24350.130</td>\n",
       "      <td>24350.130</td>\n",
       "    </tr>\n",
       "    <tr>\n",
       "      <th>4</th>\n",
       "      <td>2714724</td>\n",
       "      <td>167756</td>\n",
       "      <td>1.0</td>\n",
       "      <td>2</td>\n",
       "      <td>-1383.0</td>\n",
       "      <td>-1366.0</td>\n",
       "      <td>2165.040</td>\n",
       "      <td>2160.585</td>\n",
       "    </tr>\n",
       "  </tbody>\n",
       "</table>\n",
       "</div>"
      ],
      "text/plain": [
       "   SK_ID_PREV  SK_ID_CURR  NUM_INSTALMENT_VERSION  NUM_INSTALMENT_NUMBER  \\\n",
       "0     1054186      161674                     1.0                      6   \n",
       "1     1330831      151639                     0.0                     34   \n",
       "2     2085231      193053                     2.0                      1   \n",
       "3     2452527      199697                     1.0                      3   \n",
       "4     2714724      167756                     1.0                      2   \n",
       "\n",
       "   DAYS_INSTALMENT  DAYS_ENTRY_PAYMENT  AMT_INSTALMENT  AMT_PAYMENT  \n",
       "0          -1180.0             -1187.0        6948.360     6948.360  \n",
       "1          -2156.0             -2156.0        1716.525     1716.525  \n",
       "2            -63.0               -63.0       25425.000    25425.000  \n",
       "3          -2418.0             -2426.0       24350.130    24350.130  \n",
       "4          -1383.0             -1366.0        2165.040     2160.585  "
      ]
     },
     "execution_count": 21,
     "metadata": {},
     "output_type": "execute_result"
    }
   ],
   "source": [
    "data_installments_payments_clean.head()"
   ]
  },
  {
   "cell_type": "markdown",
   "id": "d0fccb31",
   "metadata": {},
   "source": [
    "# Mengisi Missing Value "
   ]
  },
  {
   "cell_type": "code",
   "execution_count": 22,
   "id": "0bcdcc7b",
   "metadata": {},
   "outputs": [
    {
     "name": "stdout",
     "output_type": "stream",
     "text": [
      "Kolom dengan Missing Value :\n",
      "<class 'pandas.core.frame.DataFrame'>\n",
      "Index: 2 entries, DAYS_ENTRY_PAYMENT to AMT_PAYMENT\n",
      "Data columns (total 2 columns):\n",
      " #   Column          Non-Null Count  Dtype  \n",
      "---  ------          --------------  -----  \n",
      " 0   Missing Values  2 non-null      int64  \n",
      " 1   Persentase      2 non-null      float64\n",
      "dtypes: float64(1), int64(1)\n",
      "memory usage: 48.0+ bytes\n"
     ]
    },
    {
     "data": {
      "image/png": "[encoded data removed]",
      "text/plain": [
       "<Figure size 1200x900 with 1 Axes>"
      ]
     },
     "metadata": {},
     "output_type": "display_data"
    }
   ],
   "source": [
    "pengecekan(data_installments_payments_clean)"
   ]
  },
  {
   "cell_type": "code",
   "execution_count": 23,
   "id": "327a10c2",
   "metadata": {},
   "outputs": [],
   "source": [
    "def isi_missing_value(data):\n",
    "    # Mengisi nilai missing value untuk kolom numerik dengan rata-rata\n",
    "    for kolom in data.select_dtypes(include='number').columns:\n",
    "        mean_value = data[kolom].mean()\n",
    "        data[kolom].fillna(mean_value, inplace=True)\n",
    "\n",
    "    # Mengisi nilai missing value untuk kolom objek dengan mode\n",
    "    for kolom in data.select_dtypes(include='object').columns:\n",
    "        mode_value = data[kolom].mode()[0]\n",
    "        data[kolom].fillna(mode_value, inplace=True)\n",
    "\n",
    "    return data\n",
    "\n",
    "# Contoh penggunaan:\n",
    "data_clean = isi_missing_value(data_installments_payments_clean)"
   ]
  },
  {
   "cell_type": "code",
   "execution_count": 24,
   "id": "f8bad983",
   "metadata": {},
   "outputs": [
    {
     "name": "stdout",
     "output_type": "stream",
     "text": [
      "Tidak ada kolom dengan Missing Value.\n"
     ]
    }
   ],
   "source": [
    "pengecekan(data_installments_payments_clean)"
   ]
  },
  {
   "cell_type": "markdown",
   "id": "3750aeb4",
   "metadata": {},
   "source": [
    "# Menyimpan Data"
   ]
  },
  {
   "cell_type": "code",
   "execution_count": 25,
   "id": "7140f1eb",
   "metadata": {},
   "outputs": [],
   "source": [
    "data_clean.to_csv('data_clean_installments_payments_clean.csv', index=False)"
   ]
  },
  {
   "cell_type": "code",
   "execution_count": null,
   "id": "3a3d3893",
   "metadata": {},
   "outputs": [],
   "source": []
  },
  {
   "cell_type": "code",
   "execution_count": null,
   "id": "4e665b77",
   "metadata": {},
   "outputs": [],
   "source": []
  }
 ],
 "metadata": {
  "kernelspec": {
   "display_name": "Python 3 (ipykernel)",
   "language": "python",
   "name": "python3"
  },
  "language_info": {
   "codemirror_mode": {
    "name": "ipython",
    "version": 3
   },
   "file_extension": ".py",
   "mimetype": "text/x-python",
   "name": "python",
   "nbconvert_exporter": "python",
   "pygments_lexer": "ipython3",
   "version": "3.9.12"
  },
  "toc": {
   "base_numbering": 1,
   "nav_menu": {},
   "number_sections": true,
   "sideBar": true,
   "skip_h1_title": false,
   "title_cell": "Table of Contents",
   "title_sidebar": "Contents",
   "toc_cell": false,
   "toc_position": {
    "height": "calc(100% - 180px)",
    "left": "10px",
    "top": "150px",
    "width": "458.438px"
   },
   "toc_section_display": true,
   "toc_window_display": true
  },
  "varInspector": {
   "cols": {
    "lenName": 16,
    "lenType": 16,
    "lenVar": 40
   },
   "kernels_config": {
    "python": {
     "delete_cmd_postfix": "",
     "delete_cmd_prefix": "del ",
     "library": "var_list.py",
     "varRefreshCmd": "print(var_dic_list())"
    },
    "r": {
     "delete_cmd_postfix": ") ",
     "delete_cmd_prefix": "rm(",
     "library": "var_list.r",
     "varRefreshCmd": "cat(var_dic_list()) "
    }
   },
   "types_to_exclude": [
    "module",
    "function",
    "builtin_function_or_method",
    "instance",
    "_Feature"
   ],
   "window_display": false
  }
 },
 "nbformat": 4,
 "nbformat_minor": 5
}
